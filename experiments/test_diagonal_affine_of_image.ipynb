{
 "cells": [
  {
   "metadata": {},
   "cell_type": "markdown",
   "source": [
    "2024-10-20:\n",
    "\n",
    "My first attempt to run PICNIC on a whole data set failed. It raises an\n",
    "exception doing the first step, ensuring the T1 data are ordered canonically.\n",
    "To determine whether this is a problem with the data or the code, I am\n",
    "reproducing the essentials here.\n",
    "\n",
    "The code here runs flawlessly, so the problem must be the layer between the\n",
    "now-known-good data and now-known-good code. We'll troubleshoot nipype next."
   ],
   "id": "d3b6f7c2205e76ca"
  },
  {
   "metadata": {
    "collapsed": true,
    "ExecuteTime": {
     "end_time": "2024-10-22T18:41:27.046038Z",
     "start_time": "2024-10-22T18:41:26.756419Z"
    }
   },
   "cell_type": "code",
   "source": [
    "import nibabel as nib\n",
    "from pathlib import Path\n",
    "\n",
    "\n",
    "proj_path = Path(\"/home/mike/mnt/brunodata/pet/ds004513\")\n",
    "anat_path = proj_path / \"sub-s003\" / \"ses-open\" / \"anat\"\n",
    "t1_path = anat_path / \"sub-s003_ses-open_T1w.nii.gz\"\n",
    "\n",
    "t1_img = nib.load(t1_path)\n",
    "t1_final = nib.funcs.as_closest_canonical(t1_img, enforce_diag=True)\n"
   ],
   "id": "initial_id",
   "outputs": [
    {
     "ename": "OrientationError",
     "evalue": "Transformed affine is not diagonal",
     "output_type": "error",
     "traceback": [
      "\u001B[0;31m---------------------------------------------------------------------------\u001B[0m",
      "\u001B[0;31mOrientationError\u001B[0m                          Traceback (most recent call last)",
      "Cell \u001B[0;32mIn[1], line 10\u001B[0m\n\u001B[1;32m      7\u001B[0m t1_path \u001B[38;5;241m=\u001B[39m anat_path \u001B[38;5;241m/\u001B[39m \u001B[38;5;124m\"\u001B[39m\u001B[38;5;124msub-s003_ses-open_T1w.nii.gz\u001B[39m\u001B[38;5;124m\"\u001B[39m\n\u001B[1;32m      9\u001B[0m t1_img \u001B[38;5;241m=\u001B[39m nib\u001B[38;5;241m.\u001B[39mload(t1_path)\n\u001B[0;32m---> 10\u001B[0m t1_final \u001B[38;5;241m=\u001B[39m \u001B[43mnib\u001B[49m\u001B[38;5;241;43m.\u001B[39;49m\u001B[43mfuncs\u001B[49m\u001B[38;5;241;43m.\u001B[39;49m\u001B[43mas_closest_canonical\u001B[49m\u001B[43m(\u001B[49m\u001B[43mt1_img\u001B[49m\u001B[43m,\u001B[49m\u001B[43m \u001B[49m\u001B[43menforce_diag\u001B[49m\u001B[38;5;241;43m=\u001B[39;49m\u001B[38;5;28;43;01mTrue\u001B[39;49;00m\u001B[43m)\u001B[49m\n",
      "File \u001B[0;32m~/.virtualenvs/picnic/lib/python3.10/site-packages/nibabel/funcs.py:206\u001B[0m, in \u001B[0;36mas_closest_canonical\u001B[0;34m(img, enforce_diag)\u001B[0m\n\u001B[1;32m    204\u001B[0m \u001B[38;5;66;03m# however, the affine may not be diagonal\u001B[39;00m\n\u001B[1;32m    205\u001B[0m \u001B[38;5;28;01mif\u001B[39;00m enforce_diag \u001B[38;5;129;01mand\u001B[39;00m \u001B[38;5;129;01mnot\u001B[39;00m _aff_is_diag(img\u001B[38;5;241m.\u001B[39maffine):\n\u001B[0;32m--> 206\u001B[0m     \u001B[38;5;28;01mraise\u001B[39;00m OrientationError(\u001B[38;5;124m'\u001B[39m\u001B[38;5;124mTransformed affine is not diagonal\u001B[39m\u001B[38;5;124m'\u001B[39m)\n\u001B[1;32m    208\u001B[0m \u001B[38;5;28;01mreturn\u001B[39;00m img\n",
      "\u001B[0;31mOrientationError\u001B[0m: Transformed affine is not diagonal"
     ]
    }
   ],
   "execution_count": 1
  },
  {
   "metadata": {},
   "cell_type": "code",
   "outputs": [],
   "execution_count": null,
   "source": "",
   "id": "80f8c5089984393f"
  }
 ],
 "metadata": {
  "kernelspec": {
   "display_name": "Python 3",
   "language": "python",
   "name": "python3"
  },
  "language_info": {
   "codemirror_mode": {
    "name": "ipython",
    "version": 2
   },
   "file_extension": ".py",
   "mimetype": "text/x-python",
   "name": "python",
   "nbconvert_exporter": "python",
   "pygments_lexer": "ipython2",
   "version": "2.7.6"
  }
 },
 "nbformat": 4,
 "nbformat_minor": 5
}
